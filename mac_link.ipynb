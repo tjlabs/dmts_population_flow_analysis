{
 "cells": [
  {
   "cell_type": "code",
   "execution_count": null,
   "metadata": {},
   "outputs": [],
   "source": [
    "import pandas as pd\n",
    "import os\n",
    "from typing import List\n",
    "import datetime"
   ]
  },
  {
   "cell_type": "code",
   "execution_count": null,
   "metadata": {},
   "outputs": [],
   "source": [
    "# Specify the directory path as a string\n",
    "directory_path: str = 'data'\n",
    "\n",
    "#index/time/divice/mac_id/rssi/sward_id/zone_id\n",
    "df: pd.DataFrame = pd.read_csv('data/tjlabs_sward.csv')\n",
    "\n",
    "\n",
    "df.columns = ['index', 'time', 'device', 'mac_id', 'rssi', 'sward_id', 'zone_id']\n",
    "\n",
    "df.head()"
   ]
  },
  {
   "cell_type": "code",
   "execution_count": null,
   "metadata": {},
   "outputs": [],
   "source": [
    "df['time'] = pd.to_datetime(df['time']) \n",
    "\n",
    "df.describe()"
   ]
  },
  {
   "cell_type": "code",
   "execution_count": null,
   "metadata": {},
   "outputs": [],
   "source": [
    "mac_counts = df.groupby('mac_id').size()\n",
    "\n",
    "# Convert the Series to a dictionary (optional)\n",
    "mac_counts_dict = mac_counts.to_dict()\n",
    "mac_counts_dict.__len__()\n",
    "mac_counts_dict"
   ]
  },
  {
   "cell_type": "code",
   "execution_count": null,
   "metadata": {},
   "outputs": [],
   "source": [
    "df= df.sort_values(by=['time'])\n",
    "df"
   ]
  },
  {
   "cell_type": "code",
   "execution_count": null,
   "metadata": {},
   "outputs": [],
   "source": [
    "grouped_df = df.groupby('time')\n",
    "grouped_df"
   ]
  },
  {
   "cell_type": "code",
   "execution_count": null,
   "metadata": {},
   "outputs": [],
   "source": []
  },
  {
   "cell_type": "code",
   "execution_count": null,
   "metadata": {},
   "outputs": [],
   "source": [
    "for _, group_df in zip(range(36), grouped_df):\n",
    "    # Extract the DataFrame from the tuple\n",
    "    df = group_df[1]\n",
    "\n",
    "    # Now you can access the 'mac_id' column\n",
    "    unique_mac_ids = df['mac_id'].unique()\n",
    "    print(unique_mac_ids)"
   ]
  },
  {
   "cell_type": "code",
   "execution_count": null,
   "metadata": {},
   "outputs": [],
   "source": [
    "from circular_queue import CircularQueue\n",
    "queue = CircularQueue(6)\n",
    "\n",
    "for _, group_df in zip(range(10000), grouped_df):\n",
    "    # Extract the DataFrame from the tuple\n",
    "    time = group_df[0]\n",
    "    df = group_df[1]\n",
    "    unique_mac_ids = df['mac_id'].unique()\n",
    "    queue.enqueue([time, unique_mac_ids])\n",
    "    if queue.new_mac_set.__len__ == 0:\n",
    "        continue\n",
    "    for new_mac_id in queue.new_mac_set:\n",
    "        filtered_new_mac = df[(df['mac_id'] == new_mac_id) & (df['time'] ==queue.last_updated)]\n",
    "        print(filtered_new_mac)       \n",
    "        if queue.disappeared_mac_set.__len__ == 0:\n",
    "            continue\n",
    "        for dis_mac_id in queue.disappeared_mac_set:\n",
    "            filtered_disappeared_mac = df[(df['mac_id'] == dis_mac_id) & (df['time'] < queue.last_updated) & (df['time'] > queue.last_updated - datetime.timedelta(minutes=5))]\n",
    "            \n",
    "            if filtered_disappeared_mac.empty:\n",
    "                continue\n",
    "            else:\n",
    "                print(filtered_disappeared_mac)\n",
    "            \n",
    "        \n",
    "\n"
   ]
  },
  {
   "cell_type": "code",
   "execution_count": null,
   "metadata": {},
   "outputs": [],
   "source": [
    "# MAC-Link 설계 파라미터\n",
    "# 기존 MAC의 사라짐을 판단할 time window => 1분\n",
    "# 기존 MAC의 사라짐을 판단할 조건 => set을 통해 사라지거나 새로 생성된 MAC을 판단\n",
    "# MAC-Link 조건 (기존 MAC과 신규 MAC이 동일 MAC임을 판단하기 위한 조건)\n",
    "# - 새로운 맥과 사라진 맥의 time window가 1분 이내\n",
    "# - 새로운 맥과 사라진 맥의 마지막 존 아이디가 같음\n",
    "# - 새로운 맥과 사라진 맥의 RSSI가 10 이내\n",
    "# 동일 MAC이라고 판단 시, MAC 관리 방안\n",
    "# - 기존의 uuid에 붙임"
   ]
  },
  {
   "cell_type": "code",
   "execution_count": null,
   "metadata": {},
   "outputs": [],
   "source": [
    "cq = CircularQueue(3)\n",
    "\n",
    "list1 = [1]\n",
    "list2 = [2,3]\n",
    "list3 = [4]\n",
    "list4 = [4]\n",
    "list5 = []\n",
    "\n",
    "list_all = [list1, list2, list3, list4, list5]\n",
    "\n",
    "for list in list_all:\n",
    "    cq.enqueue([0, list])\n",
    "    print('new', cq.new_mac_set)\n",
    "    print('dis', cq.disappeared_mac_set)\n",
    "    print('all', cq.mac_set)"
   ]
  }
 ],
 "metadata": {
  "kernelspec": {
   "display_name": "Python 3",
   "language": "python",
   "name": "python3"
  },
  "language_info": {
   "codemirror_mode": {
    "name": "ipython",
    "version": 3
   },
   "file_extension": ".py",
   "mimetype": "text/x-python",
   "name": "python",
   "nbconvert_exporter": "python",
   "pygments_lexer": "ipython3",
   "version": "3.11.3"
  }
 },
 "nbformat": 4,
 "nbformat_minor": 2
}
