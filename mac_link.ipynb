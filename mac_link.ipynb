{
 "cells": [
  {
   "cell_type": "code",
   "execution_count": null,
   "metadata": {},
   "outputs": [],
   "source": [
    "import pandas as pd"
   ]
  },
  {
   "cell_type": "code",
   "execution_count": null,
   "metadata": {},
   "outputs": [],
   "source": [
    "# Specify the directory path as a string\n",
    "directory_path: str = 'data'\n",
    "\n",
    "#index/time/divice/mac_id/rssi/sward_id/zone_id\n",
    "df: pd.DataFrame = pd.read_csv('data/tjlabs_sward.csv')\n",
    "\n",
    "\n",
    "df.columns = ['index', 'time', 'device', 'mac_id', 'rssi', 'sward_id', 'zone_id']\n",
    "\n",
    "df.head()"
   ]
  },
  {
   "cell_type": "code",
   "execution_count": null,
   "metadata": {},
   "outputs": [],
   "source": [
    "df['time'] = pd.to_datetime(df['time']) \n",
    "\n",
    "df.describe()"
   ]
  },
  {
   "cell_type": "code",
   "execution_count": null,
   "metadata": {},
   "outputs": [],
   "source": [
    "mac_counts = df.groupby('mac_id').size()\n",
    "\n",
    "# Convert the Series to a dictionary (optional)\n",
    "mac_counts_dict = mac_counts.to_dict()\n",
    "mac_counts_dict.__len__()"
   ]
  },
  {
   "cell_type": "code",
   "execution_count": null,
   "metadata": {},
   "outputs": [],
   "source": [
    "df= df.sort_values(by=['time'])\n",
    "df"
   ]
  },
  {
   "cell_type": "code",
   "execution_count": null,
   "metadata": {},
   "outputs": [],
   "source": [
    "grouped_df = df.groupby('time')\n",
    "grouped_df.count()"
   ]
  },
  {
   "cell_type": "code",
   "execution_count": null,
   "metadata": {},
   "outputs": [],
   "source": [
    "from circular_queue import CircularQueue\n",
    "import uuid\n",
    "import pandas as pd\n",
    "\n",
    "# Initialize the circular queue and dictionaries\n",
    "queue = CircularQueue(5)\n",
    "temp_mac_dict = {}\n",
    "main_mac_dict = {}\n",
    "\n",
    "# Preprocessing step: Create a dictionary for last occurrences\n",
    "last_occurrences = df.groupby('mac_id').agg({'zone_id': 'last', 'rssi': 'last', 'time': 'last'}).to_dict('index')\n",
    "\n",
    "# Function to process new MAC IDs\n",
    "def process_new_mac_ids(new_mac_ids):\n",
    "    for mac_id in new_mac_ids:\n",
    "        if mac_id not in temp_mac_dict:\n",
    "            temp_mac_dict[mac_id] = uuid.uuid4()\n",
    "\n",
    "# Function to process disappeared MAC IDs\n",
    "def process_disappeared_mac_ids(disappeared_mac_ids, one_epoch_ago, two_epoch_ago, last_updated_time):\n",
    "    for disappeared_mac_id in disappeared_mac_ids:\n",
    "        last_info = last_occurrences.get(disappeared_mac_id)\n",
    "        if last_info and last_info['time'] == last_updated_time:\n",
    "            last_zone_id = last_info['zone_id']\n",
    "            for mac_id in one_epoch_ago.union(two_epoch_ago):\n",
    "                current_info = last_occurrences.get(mac_id)\n",
    "                if current_info and current_info['zone_id'] == last_zone_id:\n",
    "                    if abs(current_info['rssi'] - last_info['rssi']) < 10 : \n",
    "                      main_mac_dict[mac_id] = temp_mac_dict[disappeared_mac_id]\n",
    "\n",
    "# Main processing loop\n",
    "for _, group in zip(range(16850), grouped_df):\n",
    "    time, temp_df = group[0], group[1]\n",
    "    unique_mac_ids = temp_df['mac_id'].unique()\n",
    "\n",
    "    queue.enqueue([time, unique_mac_ids])\n",
    "    print(queue.last_updated)\n",
    "\n",
    "    if queue.new_mac_set:\n",
    "        process_new_mac_ids(queue.new_mac_set)\n",
    "\n",
    "    if queue.disappeared_mac_set:\n",
    "        one_epoch_ago = queue.new_mac_queue[(queue.tail - 2) % queue.capacity]\n",
    "        two_epoch_ago = queue.new_mac_queue[(queue.tail - 3) % queue.capacity]\n",
    "        last_updated_time = queue.last_updated_queue[(queue.tail - 2) % queue.capacity]\n",
    "\n",
    "        process_disappeared_mac_ids(queue.disappeared_mac_set, one_epoch_ago, two_epoch_ago, last_updated_time)"
   ]
  },
  {
   "cell_type": "code",
   "execution_count": null,
   "metadata": {},
   "outputs": [],
   "source": [
    "temp_mac_dict"
   ]
  },
  {
   "cell_type": "code",
   "execution_count": null,
   "metadata": {},
   "outputs": [],
   "source": [
    "main_mac_dict"
   ]
  },
  {
   "cell_type": "code",
   "execution_count": null,
   "metadata": {},
   "outputs": [],
   "source": [
    "# from circular_queue import CircularQueue\n",
    "# import uuid\n",
    "# import pandas as pd\n",
    "\n",
    "# # Initialize the circular queue and dictionaries\n",
    "# queue = CircularQueue(6)\n",
    "# temp_mac_dict = {}\n",
    "# main_mac_dict = {}\n",
    "\n",
    "# # Preprocessing step: Create a dictionary for last occurrences\n",
    "# last_occurrences = df.groupby('mac_id').agg({'zone_id': 'last', 'rssi': 'last', 'time': 'last'}).to_dict('index')\n",
    "# grouped_by_mac = df.groupby('mac_id')\n",
    "\n",
    "# def filter_by_custom_time(group, cutoff):\n",
    "#     filtered_group = group[group['time'] <= cutoff]\n",
    "#     return filtered_group.loc[filtered_group['time'].idxmax()] if not filtered_group.empty else None\n",
    "\n",
    "# # Function to process new MAC IDs\n",
    "# def process_new_mac_ids(new_mac_ids):\n",
    "#     for mac_id in new_mac_ids:\n",
    "#         if mac_id not in temp_mac_dict:\n",
    "#             temp_mac_dict[mac_id] = uuid.uuid4()\n",
    "\n",
    "# # Function to process disappeared MAC IDs\n",
    "# def process_disappeared_mac_ids(disappeared_mac_ids, one_epoch_ago, two_epoch_ago, last_updated_time):\n",
    "#     last_occurrences = grouped_by_mac.apply(filter_by_custom_time, cutoff=last_updated_time)\n",
    "#     for disappeared_mac_id in disappeared_mac_ids:\n",
    "#         last_info = last_occurrences.get(disappeared_mac_id)\n",
    "#         if last_info and last_info['time'] == last_updated_time:\n",
    "#             last_zone_id = last_info['zone_id']\n",
    "#             for mac_id in one_epoch_ago.union(two_epoch_ago):\n",
    "#                 current_info = last_occurrences.get(mac_id)\n",
    "#                 if current_info and current_info['zone_id'] == last_zone_id:\n",
    "#                     main_mac_dict[mac_id] = temp_mac_dict[disappeared_mac_id]\n",
    "\n",
    "# # Main processing loop\n",
    "# for _, group in zip(range(1000), grouped_df):\n",
    "#     time, temp_df = group[0], group[1]\n",
    "#     unique_mac_ids = temp_df['mac_id'].unique()\n",
    "\n",
    "#     queue.enqueue([time, unique_mac_ids])\n",
    "#     print(queue.last_updated)\n",
    "\n",
    "#     if queue.new_mac_set:\n",
    "#         process_new_mac_ids(queue.new_mac_set)\n",
    "\n",
    "#     if queue.disappeared_mac_set:\n",
    "#         one_epoch_ago = queue.new_mac_queue[(queue.tail - 2) % queue.capacity]\n",
    "#         two_epoch_ago = queue.new_mac_queue[(queue.tail - 3) % queue.capacity]\n",
    "#         last_updated_time = queue.last_updated_queue[(queue.tail - 2) % queue.capacity]\n",
    "\n",
    "#         process_disappeared_mac_ids(queue.disappeared_mac_set, one_epoch_ago, two_epoch_ago, last_updated_time)"
   ]
  },
  {
   "cell_type": "code",
   "execution_count": null,
   "metadata": {},
   "outputs": [],
   "source": [
    "# temp_mac_dict"
   ]
  },
  {
   "cell_type": "code",
   "execution_count": null,
   "metadata": {},
   "outputs": [],
   "source": [
    "# main_mac_dict"
   ]
  },
  {
   "cell_type": "code",
   "execution_count": null,
   "metadata": {},
   "outputs": [],
   "source": [
    "# df[df['mac_id'] == 'F5-4F-73-13-A7-BB']"
   ]
  }
 ],
 "metadata": {
  "kernelspec": {
   "display_name": "Python 3",
   "language": "python",
   "name": "python3"
  },
  "language_info": {
   "codemirror_mode": {
    "name": "ipython",
    "version": 3
   },
   "file_extension": ".py",
   "mimetype": "text/x-python",
   "name": "python",
   "nbconvert_exporter": "python",
   "pygments_lexer": "ipython3",
   "version": "3.11.3"
  }
 },
 "nbformat": 4,
 "nbformat_minor": 2
}
