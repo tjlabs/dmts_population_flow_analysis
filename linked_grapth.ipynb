{
 "cells": [
  {
   "cell_type": "code",
   "execution_count": null,
   "metadata": {},
   "outputs": [],
   "source": [
    "import pandas as pd\n",
    "import os\n",
    "from typing import List\n",
    "import datetime"
   ]
  },
  {
   "cell_type": "code",
   "execution_count": null,
   "metadata": {},
   "outputs": [],
   "source": [
    "\n",
    "# Specify the directory path as a string\n",
    "directory_path: str = 'data/231102'\n",
    "\n",
    "# List to store the names of CSV files (each file name is a string)\n",
    "csv_files: List[str] = [file for file in os.listdir(directory_path) if file.endswith('.csv')]\n",
    "\n",
    "# List to hold DataFrame objects\n",
    "all_data: List[pd.DataFrame] = []\n",
    "\n",
    "# Iterate over the list of file names\n",
    "for file_name in csv_files:\n",
    "    file_path: str = os.path.join(directory_path, file_name)  # Construct full file path\n",
    "    if (file_name == '79-07-EB-BC-85-03.csv') or (file_name == '53-A4-78-A9-D8-A2.csv'):\n",
    "    \n",
    "        df: pd.DataFrame = pd.read_csv(file_path)  # Read CSV into DataFrame\n",
    "        all_data.append(df)\n",
    "\n",
    "# Concatenate all DataFrames into a single DataFrame\n",
    "combined_data: pd.DataFrame = pd.concat(all_data)"
   ]
  },
  {
   "cell_type": "code",
   "execution_count": null,
   "metadata": {},
   "outputs": [],
   "source": [
    "combined_data['time'] = pd.to_datetime(combined_data['time']) \n",
    "\n",
    "combined_data.head()"
   ]
  },
  {
   "cell_type": "code",
   "execution_count": null,
   "metadata": {},
   "outputs": [],
   "source": [
    "specific_date = '2023-11-02'\n",
    "start_time = '14:00:00'\n",
    "end_time = '15:00:00'\n",
    "\n",
    "filtered_data = combined_data[\n",
    "    (combined_data['time'].dt.date == pd.to_datetime(specific_date).date()) &\n",
    "    (combined_data['time'].dt.time >= pd.to_datetime(start_time).time()) &\n",
    "    (combined_data['time'].dt.time <= pd.to_datetime(end_time).time())\n",
    "]\n",
    "\n",
    "filtered_data"
   ]
  },
  {
   "cell_type": "code",
   "execution_count": null,
   "metadata": {},
   "outputs": [],
   "source": [
    "filtered_data['mac_id'] = filtered_data['mac_id'].replace('53-A4-78-A9-D8-A2', '79-07-EB-BC-85-03')"
   ]
  },
  {
   "cell_type": "code",
   "execution_count": null,
   "metadata": {},
   "outputs": [],
   "source": [
    "mac_counts = filtered_data.groupby('mac_id').size()\n",
    "\n",
    "# Convert the Series to a dictionary (optional)\n",
    "mac_counts_dict = mac_counts.to_dict()\n",
    "mac_counts_dict.__len__()"
   ]
  },
  {
   "cell_type": "code",
   "execution_count": null,
   "metadata": {},
   "outputs": [],
   "source": [
    "filtered_mac_counts_dict = {key: value for key, value in mac_counts_dict.items() if value >= 120}\n",
    "filtered_mac_counts_dict.__len__()"
   ]
  },
  {
   "cell_type": "code",
   "execution_count": null,
   "metadata": {},
   "outputs": [],
   "source": [
    "mac_addresses_to_keep = list(filtered_mac_counts_dict.keys())\n",
    "\n",
    "filtered_data = filtered_data[filtered_data['mac_id'].isin(mac_addresses_to_keep)]"
   ]
  },
  {
   "cell_type": "code",
   "execution_count": null,
   "metadata": {},
   "outputs": [],
   "source": [
    "grouped = filtered_data.groupby('mac_id')['zone_id'].apply(set)\n",
    "\n",
    "# Convert to dictionary\n",
    "mac_id_to_zone_id_dict = grouped.to_dict()\n",
    "\n",
    "mac_id_to_zone_id_dict.__len__()"
   ]
  },
  {
   "cell_type": "code",
   "execution_count": null,
   "metadata": {},
   "outputs": [],
   "source": [
    "filtered_mac_id_to_zone_id_dict = {\n",
    "    mac_id: zone_ids\n",
    "    for mac_id, zone_ids in mac_id_to_zone_id_dict.items()\n",
    "    # if len(zone_ids) >= 15\n",
    "}\n",
    "filtered_mac_id_to_zone_id_dict.__len__()"
   ]
  },
  {
   "cell_type": "code",
   "execution_count": null,
   "metadata": {},
   "outputs": [],
   "source": [
    "mac_ids_to_keep = list(filtered_mac_id_to_zone_id_dict.keys())\n",
    "\n",
    "filtered_data = filtered_data[filtered_data['mac_id'].isin(mac_ids_to_keep)]\n",
    "\n",
    "filtered_data"
   ]
  },
  {
   "cell_type": "code",
   "execution_count": null,
   "metadata": {},
   "outputs": [],
   "source": [
    "pivot_df = filtered_data.pivot_table(index='time', columns='mac_id', values='zone_id', aggfunc='first')\n",
    "pivot_df = pivot_df.bfill().ffill()"
   ]
  },
  {
   "cell_type": "code",
   "execution_count": null,
   "metadata": {},
   "outputs": [],
   "source": [
    "# Number of columns in pivot_df\n",
    "num_columns = len(pivot_df.columns)\n",
    "\n",
    "# Create a list of integers [1, 2, 3, ..., num_columns]\n",
    "new_column_names = list(range(1, num_columns + 1))\n",
    "\n",
    "# Assign the new column names to pivot_df\n",
    "pivot_df.columns = new_column_names\n",
    "\n",
    "pivot_df"
   ]
  },
  {
   "cell_type": "code",
   "execution_count": null,
   "metadata": {},
   "outputs": [],
   "source": [
    "def mode_agg(series):\n",
    "    if len(series) > 0:\n",
    "        return series.mode()[0]\n",
    "    else:\n",
    "        return pd.NA"
   ]
  },
  {
   "cell_type": "code",
   "execution_count": null,
   "metadata": {},
   "outputs": [],
   "source": [
    "resampled_df = pivot_df.resample('1T')\n",
    "\n",
    "pivot_df = resampled_df.agg(mode_agg)"
   ]
  },
  {
   "cell_type": "code",
   "execution_count": null,
   "metadata": {},
   "outputs": [],
   "source": [
    "pd.set_option('display.max_rows', None)\n",
    "pd.set_option('display.max_columns', None)\n",
    "pivot_df.bfill(inplace=True)\n",
    "\n",
    "pivot_df.loc['2023-11-02 14:01:00'] = 4\n",
    "pivot_df.loc['2023-11-02 14:06:00'] = 8\n",
    "pivot_df.loc['2023-11-02 14:12:00'] = 11\n",
    "pivot_df.loc['2023-11-02 14:14:00'] = 22\n",
    "pivot_df.loc['2023-11-02 14:16:00'] = 23\n",
    "pivot_df.loc['2023-11-02 14:17:00'] = 23\n",
    "pivot_df.loc['2023-11-02 14:19:00'] = 19\n",
    "\n",
    "pivot_df[1]"
   ]
  },
  {
   "cell_type": "code",
   "execution_count": null,
   "metadata": {},
   "outputs": [],
   "source": [
    "zone_position_map = {\n",
    "        1: (45, 45),\n",
    "        2: (45, 119),\n",
    "        3: (45, 193),\n",
    "        4: (45, 267),\n",
    "        5: (45, 341),\n",
    "        6: (141, 45),\n",
    "        7: (141, 119),\n",
    "        8: (141, 193),\n",
    "        9: (141, 267),\n",
    "        10: (141, 341),\n",
    "        11: (237, 45),\n",
    "        12: (237, 119),\n",
    "        13: (237, 193),\n",
    "        14: (237, 267),\n",
    "        15: (237, 341),\n",
    "        16: (333, 45),\n",
    "        17: (333, 119),\n",
    "        18: (333, 193),\n",
    "        19: (333, 267),\n",
    "        20: (333, 341),\n",
    "        21: (429, 45),\n",
    "        22: (429, 119),\n",
    "        23: (429, 193),\n",
    "        23: (429, 267),\n",
    "        24: (429, 341),\n",
    "        25: (525, 45),\n",
    "    }"
   ]
  },
  {
   "cell_type": "code",
   "execution_count": null,
   "metadata": {},
   "outputs": [],
   "source": [
    "transformed_df = pivot_df.map(lambda zone_id: zone_position_map.get(zone_id, (None, None)))\n",
    "transformed_df"
   ]
  },
  {
   "cell_type": "code",
   "execution_count": null,
   "metadata": {},
   "outputs": [],
   "source": []
  },
  {
   "cell_type": "code",
   "execution_count": null,
   "metadata": {},
   "outputs": [],
   "source": [
    "import numpy as np\n",
    "import matplotlib.pyplot as plt\n",
    "from matplotlib import rc\n",
    "from matplotlib.animation import FuncAnimation\n",
    "\n",
    "noisy_coords_list = []\n",
    "num_macs = 1  # Number of lines to plot\n",
    "\n",
    "# Noise parameters\n",
    "mean = 0  # Mean of the noise\n",
    "std_dev = 5  # Standard deviation of the noise\n",
    "\n",
    "for idx in range(num_macs):\n",
    "    # Extract data for this MAC address\n",
    "    mac_data = transformed_df[idx + 1].dropna()\n",
    "    x_coords, y_coords = zip(*mac_data)\n",
    "\n",
    "    # Generate and apply noise\n",
    "    noise_x = np.random.normal(mean, std_dev, len(x_coords))\n",
    "    noise_y = np.random.normal(mean, std_dev, len(y_coords))\n",
    "    noisy_x_coords = [x + noise for x, noise in zip(x_coords, noise_x)]\n",
    "    noisy_y_coords = [y + noise for y, noise in zip(y_coords, noise_y)]\n",
    "\n",
    "    noisy_coords_list.append((noisy_x_coords, noisy_y_coords))\n",
    "\n",
    "img = plt.imread('background.png')\n",
    "flipped_img = np.flipud(img) \n",
    "\n",
    "fig, ax = plt.subplots()\n",
    "ax.set_xlim([0, 700])  # Adjust based on data range\n",
    "ax.set_ylim([0, 450])\n",
    "ax.axes.get_xaxis().set_visible(False)\n",
    "ax.axes.get_yaxis().set_visible(False)\n",
    "ax.imshow(flipped_img)\n",
    "\n",
    "lines = [ax.plot([], [], '.-', )[0] for _ in range(1)]\n",
    "\n",
    "def init():\n",
    "    for line in lines:\n",
    "        line.set_data([], [])\n",
    "    return lines\n",
    "\n",
    "def animate(frame):\n",
    "    for idx, line in enumerate(lines):\n",
    "        noisy_x_coords, noisy_y_coords = noisy_coords_list[idx]\n",
    "\n",
    "        if frame < len(noisy_x_coords):\n",
    "            line.set_data(noisy_x_coords[:frame + 1], noisy_y_coords[:frame + 1])\n",
    "\n",
    "    return lines\n",
    "\n",
    "anim = FuncAnimation(fig, animate, init_func=init, frames= len(noisy_coords_list[0][0]) , interval=1000, blit=True)\n",
    "\n",
    "anim.save('animation_12.gif', writer='pillow')\n",
    "plt.show()"
   ]
  }
 ],
 "metadata": {
  "kernelspec": {
   "display_name": "Python 3",
   "language": "python",
   "name": "python3"
  },
  "language_info": {
   "codemirror_mode": {
    "name": "ipython",
    "version": 3
   },
   "file_extension": ".py",
   "mimetype": "text/x-python",
   "name": "python",
   "nbconvert_exporter": "python",
   "pygments_lexer": "ipython3",
   "version": "3.11.3"
  }
 },
 "nbformat": 4,
 "nbformat_minor": 2
}
